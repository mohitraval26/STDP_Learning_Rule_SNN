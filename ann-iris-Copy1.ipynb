{
 "cells": [
  {
   "cell_type": "code",
   "execution_count": 19,
   "id": "3e788ba5-391f-4d80-b438-7e4e8e6ac26a",
   "metadata": {},
   "outputs": [],
   "source": [
    "import numpy as np\n",
    "\n",
    "from sklearn.datasets import load_iris\n",
    "from sklearn.model_selection import train_test_split\n",
    "from sklearn.preprocessing import OneHotEncoder\n",
    "\n",
    "from keras.models import Sequential\n",
    "from keras.layers import Dense\n",
    "from keras.optimizers import Adam\n",
    "from keras.callbacks import Callback\n",
    "\n",
    "import time"
   ]
  },
  {
   "cell_type": "code",
   "execution_count": 20,
   "id": "4e7e106b-e277-4db3-abaa-6b51fa8b9a98",
   "metadata": {},
   "outputs": [],
   "source": [
    "#loading iris dataset\n",
    "iris_data = load_iris() \n"
   ]
  },
  {
   "cell_type": "code",
   "execution_count": 21,
   "id": "313a1133-5412-4def-a845-2b69739c2e84",
   "metadata": {},
   "outputs": [
    {
     "data": {
      "text/plain": [
       "array([[5.1, 3.5, 1.4, 0.2],\n",
       "       [4.9, 3. , 1.4, 0.2],\n",
       "       [4.7, 3.2, 1.3, 0.2],\n",
       "       [4.6, 3.1, 1.5, 0.2],\n",
       "       [5. , 3.6, 1.4, 0.2],\n",
       "       [5.4, 3.9, 1.7, 0.4],\n",
       "       [4.6, 3.4, 1.4, 0.3],\n",
       "       [5. , 3.4, 1.5, 0.2],\n",
       "       [4.4, 2.9, 1.4, 0.2],\n",
       "       [4.9, 3.1, 1.5, 0.1],\n",
       "       [5.4, 3.7, 1.5, 0.2],\n",
       "       [4.8, 3.4, 1.6, 0.2],\n",
       "       [4.8, 3. , 1.4, 0.1],\n",
       "       [4.3, 3. , 1.1, 0.1],\n",
       "       [5.8, 4. , 1.2, 0.2],\n",
       "       [5.7, 4.4, 1.5, 0.4],\n",
       "       [5.4, 3.9, 1.3, 0.4],\n",
       "       [5.1, 3.5, 1.4, 0.3],\n",
       "       [5.7, 3.8, 1.7, 0.3],\n",
       "       [5.1, 3.8, 1.5, 0.3],\n",
       "       [5.4, 3.4, 1.7, 0.2],\n",
       "       [5.1, 3.7, 1.5, 0.4],\n",
       "       [4.6, 3.6, 1. , 0.2],\n",
       "       [5.1, 3.3, 1.7, 0.5],\n",
       "       [4.8, 3.4, 1.9, 0.2],\n",
       "       [5. , 3. , 1.6, 0.2],\n",
       "       [5. , 3.4, 1.6, 0.4],\n",
       "       [5.2, 3.5, 1.5, 0.2],\n",
       "       [5.2, 3.4, 1.4, 0.2],\n",
       "       [4.7, 3.2, 1.6, 0.2],\n",
       "       [4.8, 3.1, 1.6, 0.2],\n",
       "       [5.4, 3.4, 1.5, 0.4],\n",
       "       [5.2, 4.1, 1.5, 0.1],\n",
       "       [5.5, 4.2, 1.4, 0.2],\n",
       "       [4.9, 3.1, 1.5, 0.2],\n",
       "       [5. , 3.2, 1.2, 0.2],\n",
       "       [5.5, 3.5, 1.3, 0.2],\n",
       "       [4.9, 3.6, 1.4, 0.1],\n",
       "       [4.4, 3. , 1.3, 0.2],\n",
       "       [5.1, 3.4, 1.5, 0.2],\n",
       "       [5. , 3.5, 1.3, 0.3],\n",
       "       [4.5, 2.3, 1.3, 0.3],\n",
       "       [4.4, 3.2, 1.3, 0.2],\n",
       "       [5. , 3.5, 1.6, 0.6],\n",
       "       [5.1, 3.8, 1.9, 0.4],\n",
       "       [4.8, 3. , 1.4, 0.3],\n",
       "       [5.1, 3.8, 1.6, 0.2],\n",
       "       [4.6, 3.2, 1.4, 0.2],\n",
       "       [5.3, 3.7, 1.5, 0.2],\n",
       "       [5. , 3.3, 1.4, 0.2],\n",
       "       [7. , 3.2, 4.7, 1.4],\n",
       "       [6.4, 3.2, 4.5, 1.5],\n",
       "       [6.9, 3.1, 4.9, 1.5],\n",
       "       [5.5, 2.3, 4. , 1.3],\n",
       "       [6.5, 2.8, 4.6, 1.5],\n",
       "       [5.7, 2.8, 4.5, 1.3],\n",
       "       [6.3, 3.3, 4.7, 1.6],\n",
       "       [4.9, 2.4, 3.3, 1. ],\n",
       "       [6.6, 2.9, 4.6, 1.3],\n",
       "       [5.2, 2.7, 3.9, 1.4],\n",
       "       [5. , 2. , 3.5, 1. ],\n",
       "       [5.9, 3. , 4.2, 1.5],\n",
       "       [6. , 2.2, 4. , 1. ],\n",
       "       [6.1, 2.9, 4.7, 1.4],\n",
       "       [5.6, 2.9, 3.6, 1.3],\n",
       "       [6.7, 3.1, 4.4, 1.4],\n",
       "       [5.6, 3. , 4.5, 1.5],\n",
       "       [5.8, 2.7, 4.1, 1. ],\n",
       "       [6.2, 2.2, 4.5, 1.5],\n",
       "       [5.6, 2.5, 3.9, 1.1],\n",
       "       [5.9, 3.2, 4.8, 1.8],\n",
       "       [6.1, 2.8, 4. , 1.3],\n",
       "       [6.3, 2.5, 4.9, 1.5],\n",
       "       [6.1, 2.8, 4.7, 1.2],\n",
       "       [6.4, 2.9, 4.3, 1.3],\n",
       "       [6.6, 3. , 4.4, 1.4],\n",
       "       [6.8, 2.8, 4.8, 1.4],\n",
       "       [6.7, 3. , 5. , 1.7],\n",
       "       [6. , 2.9, 4.5, 1.5],\n",
       "       [5.7, 2.6, 3.5, 1. ],\n",
       "       [5.5, 2.4, 3.8, 1.1],\n",
       "       [5.5, 2.4, 3.7, 1. ],\n",
       "       [5.8, 2.7, 3.9, 1.2],\n",
       "       [6. , 2.7, 5.1, 1.6],\n",
       "       [5.4, 3. , 4.5, 1.5],\n",
       "       [6. , 3.4, 4.5, 1.6],\n",
       "       [6.7, 3.1, 4.7, 1.5],\n",
       "       [6.3, 2.3, 4.4, 1.3],\n",
       "       [5.6, 3. , 4.1, 1.3],\n",
       "       [5.5, 2.5, 4. , 1.3],\n",
       "       [5.5, 2.6, 4.4, 1.2],\n",
       "       [6.1, 3. , 4.6, 1.4],\n",
       "       [5.8, 2.6, 4. , 1.2],\n",
       "       [5. , 2.3, 3.3, 1. ],\n",
       "       [5.6, 2.7, 4.2, 1.3],\n",
       "       [5.7, 3. , 4.2, 1.2],\n",
       "       [5.7, 2.9, 4.2, 1.3],\n",
       "       [6.2, 2.9, 4.3, 1.3],\n",
       "       [5.1, 2.5, 3. , 1.1],\n",
       "       [5.7, 2.8, 4.1, 1.3],\n",
       "       [6.3, 3.3, 6. , 2.5],\n",
       "       [5.8, 2.7, 5.1, 1.9],\n",
       "       [7.1, 3. , 5.9, 2.1],\n",
       "       [6.3, 2.9, 5.6, 1.8],\n",
       "       [6.5, 3. , 5.8, 2.2],\n",
       "       [7.6, 3. , 6.6, 2.1],\n",
       "       [4.9, 2.5, 4.5, 1.7],\n",
       "       [7.3, 2.9, 6.3, 1.8],\n",
       "       [6.7, 2.5, 5.8, 1.8],\n",
       "       [7.2, 3.6, 6.1, 2.5],\n",
       "       [6.5, 3.2, 5.1, 2. ],\n",
       "       [6.4, 2.7, 5.3, 1.9],\n",
       "       [6.8, 3. , 5.5, 2.1],\n",
       "       [5.7, 2.5, 5. , 2. ],\n",
       "       [5.8, 2.8, 5.1, 2.4],\n",
       "       [6.4, 3.2, 5.3, 2.3],\n",
       "       [6.5, 3. , 5.5, 1.8],\n",
       "       [7.7, 3.8, 6.7, 2.2],\n",
       "       [7.7, 2.6, 6.9, 2.3],\n",
       "       [6. , 2.2, 5. , 1.5],\n",
       "       [6.9, 3.2, 5.7, 2.3],\n",
       "       [5.6, 2.8, 4.9, 2. ],\n",
       "       [7.7, 2.8, 6.7, 2. ],\n",
       "       [6.3, 2.7, 4.9, 1.8],\n",
       "       [6.7, 3.3, 5.7, 2.1],\n",
       "       [7.2, 3.2, 6. , 1.8],\n",
       "       [6.2, 2.8, 4.8, 1.8],\n",
       "       [6.1, 3. , 4.9, 1.8],\n",
       "       [6.4, 2.8, 5.6, 2.1],\n",
       "       [7.2, 3. , 5.8, 1.6],\n",
       "       [7.4, 2.8, 6.1, 1.9],\n",
       "       [7.9, 3.8, 6.4, 2. ],\n",
       "       [6.4, 2.8, 5.6, 2.2],\n",
       "       [6.3, 2.8, 5.1, 1.5],\n",
       "       [6.1, 2.6, 5.6, 1.4],\n",
       "       [7.7, 3. , 6.1, 2.3],\n",
       "       [6.3, 3.4, 5.6, 2.4],\n",
       "       [6.4, 3.1, 5.5, 1.8],\n",
       "       [6. , 3. , 4.8, 1.8],\n",
       "       [6.9, 3.1, 5.4, 2.1],\n",
       "       [6.7, 3.1, 5.6, 2.4],\n",
       "       [6.9, 3.1, 5.1, 2.3],\n",
       "       [5.8, 2.7, 5.1, 1.9],\n",
       "       [6.8, 3.2, 5.9, 2.3],\n",
       "       [6.7, 3.3, 5.7, 2.5],\n",
       "       [6.7, 3. , 5.2, 2.3],\n",
       "       [6.3, 2.5, 5. , 1.9],\n",
       "       [6.5, 3. , 5.2, 2. ],\n",
       "       [6.2, 3.4, 5.4, 2.3],\n",
       "       [5.9, 3. , 5.1, 1.8]])"
      ]
     },
     "execution_count": 21,
     "metadata": {},
     "output_type": "execute_result"
    }
   ],
   "source": [
    "iris_data.data"
   ]
  },
  {
   "cell_type": "code",
   "execution_count": 22,
   "id": "6fb1014d-248c-42b7-8425-f6fdcb337eb0",
   "metadata": {},
   "outputs": [
    {
     "data": {
      "text/plain": [
       "array([0, 0, 0, 0, 0, 0, 0, 0, 0, 0, 0, 0, 0, 0, 0, 0, 0, 0, 0, 0, 0, 0,\n",
       "       0, 0, 0, 0, 0, 0, 0, 0, 0, 0, 0, 0, 0, 0, 0, 0, 0, 0, 0, 0, 0, 0,\n",
       "       0, 0, 0, 0, 0, 0, 1, 1, 1, 1, 1, 1, 1, 1, 1, 1, 1, 1, 1, 1, 1, 1,\n",
       "       1, 1, 1, 1, 1, 1, 1, 1, 1, 1, 1, 1, 1, 1, 1, 1, 1, 1, 1, 1, 1, 1,\n",
       "       1, 1, 1, 1, 1, 1, 1, 1, 1, 1, 1, 1, 2, 2, 2, 2, 2, 2, 2, 2, 2, 2,\n",
       "       2, 2, 2, 2, 2, 2, 2, 2, 2, 2, 2, 2, 2, 2, 2, 2, 2, 2, 2, 2, 2, 2,\n",
       "       2, 2, 2, 2, 2, 2, 2, 2, 2, 2, 2, 2, 2, 2, 2, 2, 2, 2])"
      ]
     },
     "execution_count": 22,
     "metadata": {},
     "output_type": "execute_result"
    }
   ],
   "source": [
    "iris_data.target"
   ]
  },
  {
   "cell_type": "code",
   "execution_count": 23,
   "id": "fc71f422-c8d3-4e3e-8df5-a80458a7b1df",
   "metadata": {},
   "outputs": [
    {
     "data": {
      "text/plain": [
       "(150,)"
      ]
     },
     "execution_count": 23,
     "metadata": {},
     "output_type": "execute_result"
    }
   ],
   "source": [
    "iris_data.target.shape"
   ]
  },
  {
   "cell_type": "code",
   "execution_count": 24,
   "id": "205949fd-3f91-44bf-aedf-df4e36d191af",
   "metadata": {},
   "outputs": [],
   "source": [
    "#isolating the features\n",
    "x = iris_data.data\n",
    "y_ = iris_data.target.reshape(-1, 1)"
   ]
  },
  {
   "cell_type": "code",
   "execution_count": 25,
   "id": "bcd7260f-3ec3-4ff1-8290-f14198d9ffe0",
   "metadata": {},
   "outputs": [
    {
     "data": {
      "text/plain": [
       "(150, 1)"
      ]
     },
     "execution_count": 25,
     "metadata": {},
     "output_type": "execute_result"
    }
   ],
   "source": [
    "y_.shape"
   ]
  },
  {
   "cell_type": "code",
   "execution_count": 26,
   "id": "ef8e4baf-c49e-4a2f-8628-4b11cfdc878b",
   "metadata": {},
   "outputs": [],
   "source": [
    "#encoding data\n",
    "encoder = OneHotEncoder(sparse_output=False)\n",
    "y = encoder.fit_transform(y_)"
   ]
  },
  {
   "cell_type": "code",
   "execution_count": 27,
   "id": "c6c68c67-bfc6-44f6-8a45-89f433a9a3c8",
   "metadata": {},
   "outputs": [],
   "source": [
    "#splitting into train and test data\n",
    "train_x, test_x, train_y, test_y = train_test_split(x, y, test_size=0.20)"
   ]
  },
  {
   "cell_type": "code",
   "execution_count": 28,
   "id": "14f275be-eeb4-46aa-abd2-4ed750835255",
   "metadata": {},
   "outputs": [],
   "source": [
    "#defining a function that calculates the change in mean weights at every epoch \n",
    "class WeightChangeLogger(Callback):\n",
    "    def __init__(self):\n",
    "        super(WeightChangeLogger, self).__init__()\n",
    "        self.prev_weights = None\n",
    "\n",
    "    def on_epoch_end(self, epoch, logs=None):\n",
    "        current_weights = self.model.get_weights()\n",
    "        if self.prev_weights is not None:\n",
    "            changes = [np.mean(np.abs(current_weights[i] - self.prev_weights[i])) for i in range(len(current_weights))]\n",
    "            print(\"Epoch {}: Average weight changes: {}\".format(epoch+1, changes))\n",
    "        self.prev_weights = current_weights\n"
   ]
  },
  {
   "cell_type": "code",
   "execution_count": 29,
   "id": "57d9b5c0-9420-4f11-9954-83c907e9475a",
   "metadata": {},
   "outputs": [],
   "source": [
    "#defining model\n",
    "model = Sequential()\n",
    "\n",
    "model.add(Dense(10, input_shape=(4,), activation='relu', name='fc1'))\n",
    "model.add(Dense(10, activation='relu', name='fc2'))\n",
    "model.add(Dense(3, activation='softmax', name='output'))\n",
    "\n",
    "optimizer = Adam(learning_rate=0.001)\n",
    "start_time=time.time()\n",
    "model.compile(optimizer, loss='categorical_crossentropy', metrics=['accuracy'])\n"
   ]
  },
  {
   "cell_type": "code",
   "execution_count": 30,
   "id": "36e0836a-03d2-4635-8ae9-b831e21c6a3e",
   "metadata": {},
   "outputs": [
    {
     "name": "stdout",
     "output_type": "stream",
     "text": [
      "Model: \"sequential_1\"\n",
      "_________________________________________________________________\n",
      " Layer (type)                Output Shape              Param #   \n",
      "=================================================================\n",
      " fc1 (Dense)                 (None, 10)                50        \n",
      "                                                                 \n",
      " fc2 (Dense)                 (None, 10)                110       \n",
      "                                                                 \n",
      " output (Dense)              (None, 3)                 33        \n",
      "                                                                 \n",
      "=================================================================\n",
      "Total params: 193 (772.00 Byte)\n",
      "Trainable params: 193 (772.00 Byte)\n",
      "Non-trainable params: 0 (0.00 Byte)\n",
      "_________________________________________________________________\n"
     ]
    }
   ],
   "source": [
    "model.summary()"
   ]
  },
  {
   "cell_type": "code",
   "execution_count": 31,
   "id": "fcc09821-cafd-468a-90b0-d99b275bc10d",
   "metadata": {},
   "outputs": [],
   "source": [
    "weight_change_logger = WeightChangeLogger()\n"
   ]
  },
  {
   "cell_type": "code",
   "execution_count": 32,
   "id": "77c43bf9-fe43-4f67-8ed0-7bb8e8b08175",
   "metadata": {
    "scrolled": true
   },
   "outputs": [
    {
     "name": "stdout",
     "output_type": "stream",
     "text": [
      "Epoch 1/25\n",
      "24/24 - 1s - loss: 1.1766 - accuracy: 0.3000 - 897ms/epoch - 37ms/step\n",
      "Epoch 2/25\n",
      "Epoch 2: Average weight changes: [0.0056492835, 0.0049567306, 0.0050392766, 0.006746041, 0.005417859, 0.007571205]\n",
      "24/24 - 0s - loss: 0.9512 - accuracy: 0.4583 - 40ms/epoch - 2ms/step\n",
      "Epoch 3/25\n",
      "Epoch 3: Average weight changes: [0.0048359465, 0.0028122398, 0.0036475756, 0.0031808268, 0.0033603122, 0.0036237112]\n",
      "24/24 - 0s - loss: 0.8751 - accuracy: 0.7000 - 48ms/epoch - 2ms/step\n",
      "Epoch 4/25\n",
      "Epoch 4: Average weight changes: [0.0046393024, 0.0042840512, 0.0034141326, 0.0037406161, 0.0033185247, 0.003915678]\n",
      "24/24 - 0s - loss: 0.8291 - accuracy: 0.7333 - 30ms/epoch - 1ms/step\n",
      "Epoch 5/25\n",
      "Epoch 5: Average weight changes: [0.004506409, 0.0034338683, 0.0033427859, 0.0028519516, 0.0037279115, 0.0025246998]\n",
      "24/24 - 0s - loss: 0.7819 - accuracy: 0.7167 - 41ms/epoch - 2ms/step\n",
      "Epoch 6/25\n",
      "Epoch 6: Average weight changes: [0.0045159124, 0.003441599, 0.0030971062, 0.00310942, 0.003918359, 0.0031083387]\n",
      "24/24 - 0s - loss: 0.7377 - accuracy: 0.8083 - 30ms/epoch - 1ms/step\n",
      "Epoch 7/25\n",
      "Epoch 7: Average weight changes: [0.00425114, 0.002878971, 0.003044143, 0.0023385633, 0.0040843864, 0.0020043293]\n",
      "24/24 - 0s - loss: 0.6913 - accuracy: 0.8333 - 41ms/epoch - 2ms/step\n",
      "Epoch 8/25\n",
      "Epoch 8: Average weight changes: [0.004407958, 0.0038288943, 0.002962803, 0.0029606451, 0.0044539794, 0.0029866286]\n",
      "24/24 - 0s - loss: 0.6564 - accuracy: 0.7417 - 36ms/epoch - 1ms/step\n",
      "Epoch 9/25\n",
      "Epoch 9: Average weight changes: [0.004295682, 0.0020501004, 0.0028855044, 0.0014223929, 0.004068366, 0.0014365005]\n",
      "24/24 - 0s - loss: 0.6084 - accuracy: 0.8667 - 33ms/epoch - 1ms/step\n",
      "Epoch 10/25\n",
      "Epoch 10: Average weight changes: [0.003769263, 0.0037048012, 0.0028353482, 0.0026538423, 0.0042826883, 0.001953686]\n",
      "24/24 - 0s - loss: 0.5684 - accuracy: 0.8333 - 40ms/epoch - 2ms/step\n",
      "Epoch 11/25\n",
      "Epoch 11: Average weight changes: [0.0037597015, 0.0025762522, 0.0025911033, 0.0018050068, 0.004183864, 0.0013763836]\n",
      "24/24 - 0s - loss: 0.5359 - accuracy: 0.8750 - 36ms/epoch - 2ms/step\n",
      "Epoch 12/25\n",
      "Epoch 12: Average weight changes: [0.0038287193, 0.0020646076, 0.0025587888, 0.0014308856, 0.0040572877, 0.0015058387]\n",
      "24/24 - 0s - loss: 0.5048 - accuracy: 0.9333 - 28ms/epoch - 1ms/step\n",
      "Epoch 13/25\n",
      "Epoch 13: Average weight changes: [0.0035203218, 0.0036527198, 0.0025598197, 0.0025786564, 0.0042498265, 0.001822751]\n",
      "24/24 - 0s - loss: 0.4761 - accuracy: 0.8833 - 28ms/epoch - 1ms/step\n",
      "Epoch 14/25\n",
      "Epoch 14: Average weight changes: [0.003359776, 0.0023313048, 0.0023523876, 0.0015809091, 0.0038788721, 0.001713646]\n",
      "24/24 - 0s - loss: 0.4445 - accuracy: 0.9250 - 74ms/epoch - 3ms/step\n",
      "Epoch 15/25\n",
      "Epoch 15: Average weight changes: [0.0036912602, 0.0020061966, 0.0023148456, 0.0013157779, 0.0034675747, 0.0007721614]\n",
      "24/24 - 0s - loss: 0.4170 - accuracy: 0.9000 - 49ms/epoch - 2ms/step\n",
      "Epoch 16/25\n",
      "Epoch 16: Average weight changes: [0.0032814, 0.0038231697, 0.0024057843, 0.0023416602, 0.0038755382, 0.001760669]\n",
      "24/24 - 0s - loss: 0.3888 - accuracy: 0.9417 - 32ms/epoch - 1ms/step\n",
      "Epoch 17/25\n",
      "Epoch 17: Average weight changes: [0.0031083748, 0.0018485326, 0.002037645, 0.000910029, 0.0034439801, 0.0008453795]\n",
      "24/24 - 0s - loss: 0.3679 - accuracy: 0.9500 - 29ms/epoch - 1ms/step\n",
      "Epoch 18/25\n",
      "Epoch 18: Average weight changes: [0.002723439, 0.0029369125, 0.0019603968, 0.0013766953, 0.0031991308, 0.00078080967]\n",
      "24/24 - 0s - loss: 0.3516 - accuracy: 0.9417 - 41ms/epoch - 2ms/step\n",
      "Epoch 19/25\n",
      "Epoch 19: Average weight changes: [0.0026034832, 0.002637093, 0.0017409313, 0.0011267528, 0.0029666882, 0.00068561855]\n",
      "24/24 - 0s - loss: 0.3344 - accuracy: 0.9500 - 34ms/epoch - 1ms/step\n",
      "Epoch 20/25\n",
      "Epoch 20: Average weight changes: [0.0023526095, 0.0031229816, 0.0017971802, 0.0015746349, 0.0031752551, 0.0020374686]\n",
      "24/24 - 0s - loss: 0.3156 - accuracy: 0.9583 - 36ms/epoch - 2ms/step\n",
      "Epoch 21/25\n",
      "Epoch 21: Average weight changes: [0.0022986273, 0.0023259935, 0.0016719506, 0.0013027306, 0.0030654643, 0.0015607104]\n",
      "24/24 - 0s - loss: 0.3046 - accuracy: 0.9583 - 28ms/epoch - 1ms/step\n",
      "Epoch 22/25\n",
      "Epoch 22: Average weight changes: [0.0024255207, 0.0015252681, 0.0016314264, 0.0008794859, 0.0029048868, 0.0011650162]\n",
      "24/24 - 0s - loss: 0.2903 - accuracy: 0.9583 - 37ms/epoch - 2ms/step\n",
      "Epoch 23/25\n",
      "Epoch 23: Average weight changes: [0.0021592472, 0.0030540316, 0.0015778735, 0.0013156042, 0.0029051404, 0.001155839]\n",
      "24/24 - 0s - loss: 0.2834 - accuracy: 0.9500 - 30ms/epoch - 1ms/step\n",
      "Epoch 24/25\n",
      "Epoch 24: Average weight changes: [0.0021333224, 0.0020627, 0.0014204266, 0.0010172442, 0.0027746202, 0.0010615662]\n",
      "24/24 - 0s - loss: 0.2722 - accuracy: 0.9583 - 36ms/epoch - 2ms/step\n",
      "Epoch 25/25\n",
      "Epoch 25: Average weight changes: [0.002002139, 0.002727455, 0.0014213803, 0.0012129769, 0.0027825094, 0.0013176681]\n",
      "24/24 - 0s - loss: 0.2605 - accuracy: 0.9583 - 32ms/epoch - 1ms/step\n"
     ]
    }
   ],
   "source": [
    "#callback to ewight logger function to visualize change\n",
    "model.fit(train_x, train_y, verbose=2, batch_size=5, epochs=25, callbacks=[weight_change_logger])\n",
    "end_time=time.time()"
   ]
  },
  {
   "cell_type": "code",
   "execution_count": 33,
   "id": "d88a1b5c-d5df-4624-87c4-4202149e9210",
   "metadata": {},
   "outputs": [
    {
     "name": "stdout",
     "output_type": "stream",
     "text": [
      "1/1 [==============================] - 0s 204ms/step - loss: 0.2989 - accuracy: 0.9000\n",
      "0.8999999761581421\n"
     ]
    }
   ],
   "source": [
    "test_loss, test_acc = model.evaluate(test_x, test_y)\n",
    "print(test_acc)"
   ]
  },
  {
   "cell_type": "code",
   "execution_count": 34,
   "id": "2f61995c-3f3c-400c-bba7-21d36dfcc5c3",
   "metadata": {},
   "outputs": [
    {
     "name": "stdout",
     "output_type": "stream",
     "text": [
      "2.0103540420532227\n"
     ]
    }
   ],
   "source": [
    "#prinitng execution time\n",
    "execution_time=end_time-start_time\n",
    "print(execution_time)"
   ]
  },
  {
   "cell_type": "code",
   "execution_count": 35,
   "id": "99698525-c7c5-4d77-8cc1-afa844209b78",
   "metadata": {},
   "outputs": [
    {
     "data": {
      "text/plain": [
       "[array([[ 0.6237244 ,  0.0718639 ,  0.18101294,  0.3312774 , -0.0617429 ,\n",
       "          0.22552104, -0.17106512,  0.6084671 , -0.315427  ,  0.28876907],\n",
       "        [ 0.31440726, -0.21187618,  0.47017854, -0.0582916 , -0.22373766,\n",
       "          0.24090272, -0.39080802, -0.11754625, -0.4586411 ,  0.10393736],\n",
       "        [ 0.4780354 ,  0.19286993,  0.28782043, -0.08602691, -0.23530519,\n",
       "         -0.10661801, -0.49158943, -0.34050366,  0.02035397,  0.16572593],\n",
       "        [ 0.21968214,  0.8956691 ,  0.33599964,  0.73217076,  0.62166834,\n",
       "         -0.825295  , -0.35605147, -0.02203594,  0.18551326, -0.5818465 ]],\n",
       "       dtype=float32),\n",
       " array([-0.01357273, -0.11002245,  0.10052095, -0.08613148,  0.        ,\n",
       "         0.21268281,  0.        ,  0.12605861,  0.        ,  0.01962733],\n",
       "       dtype=float32),\n",
       " array([[-0.4650793 , -0.4913606 ,  0.19049166, -0.0924438 ,  0.0103519 ,\n",
       "         -0.225649  ,  0.33945835,  0.02313901, -0.22725224,  0.20281713],\n",
       "        [-0.11869834,  0.27928406, -0.6227722 ,  0.28568318,  0.11640245,\n",
       "         -0.7671856 ,  0.07289004, -0.391252  , -0.13554038,  0.4329993 ],\n",
       "        [ 0.471712  , -0.34106448,  0.20882832,  0.5367739 ,  0.10515469,\n",
       "          0.48582676, -0.10405944,  0.06352748,  0.3803908 , -0.33677563],\n",
       "        [ 0.34183413, -0.18596327, -0.4433811 ,  0.26953533, -0.35824597,\n",
       "          0.30957925,  0.06946331, -0.33948952,  0.11200159, -0.01018432],\n",
       "        [ 0.323021  , -0.36383837,  0.4461466 ,  0.20038283,  0.04279304,\n",
       "          0.19229937, -0.32542694, -0.4449708 ,  0.48693514,  0.11889887],\n",
       "        [ 0.5410036 ,  0.22627437,  0.39703408, -0.64251924, -0.2237376 ,\n",
       "          0.55182236, -0.9307843 ,  0.8665257 , -0.0933179 , -0.0046609 ],\n",
       "        [-0.13682029,  0.16476989, -0.06687358, -0.16452727, -0.30530134,\n",
       "         -0.53921926, -0.19806337, -0.03634506, -0.29169402,  0.20218498],\n",
       "        [ 0.2959913 , -0.23900077,  0.15867798, -0.13836975,  0.11284304,\n",
       "          0.03023835,  0.49316853,  0.40493518,  0.15300451, -0.31619027],\n",
       "        [-0.32936662,  0.11738604,  0.42321706,  0.53942597, -0.3337103 ,\n",
       "          0.05072176,  0.3008765 ,  0.22657615, -0.51889426, -0.04398125],\n",
       "        [ 0.45113218, -0.11183268,  0.02309665,  0.36893332, -0.47728708,\n",
       "         -0.22644778, -0.326003  ,  0.50512785, -0.50403357, -0.32876894]],\n",
       "       dtype=float32),\n",
       " array([ 0.05968938,  0.        ,  0.16485177, -0.05891319,  0.        ,\n",
       "         0.06083605, -0.04939798,  0.04614121, -0.02974036, -0.07413054],\n",
       "       dtype=float32),\n",
       " array([[-0.1495421 , -0.53599215, -0.5296461 ],\n",
       "        [ 0.25530642,  0.21148044,  0.40171266],\n",
       "        [ 0.72784716,  0.03843897, -0.9401206 ],\n",
       "        [-0.5591104 ,  0.6196516 ,  0.52821547],\n",
       "        [-0.13034207,  0.35905015,  0.1354    ],\n",
       "        [ 0.62521166, -0.24918556,  0.12758443],\n",
       "        [-0.65484565, -0.3826641 ,  0.49685806],\n",
       "        [ 0.587088  ,  0.51992947, -0.65282714],\n",
       "        [-0.00976294,  0.30616298, -0.35586014],\n",
       "        [ 0.30966112,  0.12780769, -0.13388644]], dtype=float32),\n",
       " array([ 0.06316119, -0.01873483, -0.04254616], dtype=float32)]"
      ]
     },
     "execution_count": 35,
     "metadata": {},
     "output_type": "execute_result"
    }
   ],
   "source": [
    "#printing the final array of weights\n",
    "model.get_weights()"
   ]
  },
  {
   "cell_type": "code",
   "execution_count": 36,
   "id": "c0e3f776-01a2-4c1a-ac89-7a6bb2c05a1d",
   "metadata": {},
   "outputs": [
    {
     "name": "stdout",
     "output_type": "stream",
     "text": [
      "(4, 10)\n",
      "(10,)\n",
      "(10, 10)\n",
      "(10,)\n",
      "(10, 3)\n",
      "(3,)\n"
     ]
    }
   ],
   "source": [
    "#calculating the total number of weights updated every epoch\n",
    "array_3d=model.get_weights()\n",
    "for i in range(len(array_3d)):\n",
    "    print(array_3d[i].shape)"
   ]
  }
 ],
 "metadata": {
  "kernelspec": {
   "display_name": "Python 3 (ipykernel)",
   "language": "python",
   "name": "python3"
  },
  "language_info": {
   "codemirror_mode": {
    "name": "ipython",
    "version": 3
   },
   "file_extension": ".py",
   "mimetype": "text/x-python",
   "name": "python",
   "nbconvert_exporter": "python",
   "pygments_lexer": "ipython3",
   "version": "3.11.8"
  }
 },
 "nbformat": 4,
 "nbformat_minor": 5
}
